{
 "cells": [
  {
   "cell_type": "markdown",
   "metadata": {},
   "source": [
    "## Loops\n",
    "- life is full of loops; everyday routines such as going to college, cooking food, slicing vegetables, etc.\n",
    "- E.g. slicing a carrot\n",
    "    1. get cutting board\n",
    "    2. get knife\n",
    "    3. place carrot on cutting board\n",
    "    4. lift knife\n",
    "    - advance carrot\n",
    "    - slice carrot\n",
    "    - if you see only your finger, then quit else go to step 4\n",
    "- step 4-7 form a loop!"
   ]
  },
  {
   "cell_type": "markdown",
   "metadata": {},
   "source": [
    "## For loop\n",
    "- syntax\n",
    "```bash\n",
    "for (( init; condition; update )); do \n",
    "    # body\n",
    "done\n",
    "```\n",
    "\n",
    "```bash\n",
    "for val in val1 val2 ...; do\n",
    "    # body\n",
    "done\n",
    "```"
   ]
  },
  {
   "cell_type": "code",
   "execution_count": 15,
   "metadata": {},
   "outputs": [
    {
     "name": "stdout",
     "output_type": "stream",
     "text": [
      "2\n",
      "4\n",
      "6\n",
      "8\n",
      "10\n",
      "12\n",
      "14\n",
      "16\n",
      "18\n",
      "20\n"
     ]
    }
   ],
   "source": [
    "%%bash\n",
    "\n",
    "for (( count=1; count<=20; count++ )); do\n",
    "    if (( $count%2 == 0 )); then\n",
    "        echo $count\n",
    "    fi\n",
    "done"
   ]
  },
  {
   "cell_type": "code",
   "execution_count": 4,
   "metadata": {},
   "outputs": [
    {
     "name": "stdout",
     "output_type": "stream",
     "text": [
      "1\n",
      "2\n",
      "3\n"
     ]
    }
   ],
   "source": [
    "%%bash\n",
    "\n",
    "for i in 1 2 3; do\n",
    "    echo $i\n",
    "done"
   ]
  },
  {
   "cell_type": "code",
   "execution_count": 21,
   "metadata": {},
   "outputs": [
    {
     "name": "stdout",
     "output_type": "stream",
     "text": [
      "1 2 3 4 5 6 7 8 9 10 11 12 13 14 15 16 17 18 19 20 "
     ]
    }
   ],
   "source": [
    "%%bash\n",
    "for i in {1..20}; do\n",
    "    echo -n \"$i \" \n",
    "done"
   ]
  },
  {
   "cell_type": "code",
   "execution_count": 9,
   "metadata": {
    "code_folding": []
   },
   "outputs": [
    {
     "name": "stdout",
     "output_type": "stream",
     "text": [
      "word1\n",
      "word2\n",
      "word3\n"
     ]
    }
   ],
   "source": [
    "%%bash\n",
    "\n",
    "for w in word1 \"word2\" \"word3\"; do\n",
    "    echo $w\n",
    "done"
   ]
  },
  {
   "cell_type": "code",
   "execution_count": 8,
   "metadata": {},
   "outputs": [
    {
     "name": "stdout",
     "output_type": "stream",
     "text": [
      "Line 1 (03_Numpy_Notebook.ipynb) contains       23 characters\n",
      "Line 2 (AnacondaProjects) contains       16 characters\n",
      "Line 3 (Applications) contains       12 characters\n",
      "Line 4 (Desktop) contains        7 characters\n",
      "Line 5 (Documents) contains        9 characters\n",
      "Line 6 (Downloads) contains        9 characters\n",
      "Line 7 (European) contains        8 characters\n",
      "Line 8 (Soccer) contains        6 characters\n",
      "Line 9 (Regression) contains       10 characters\n",
      "Line 10 (Analysis) contains        8 characters\n",
      "Line 11 (using) contains        5 characters\n",
      "Line 12 (scikit-learn.ipynb) contains       18 characters\n",
      "Line 13 (Google) contains        6 characters\n",
      "Line 14 (Drive) contains        5 characters\n",
      "Line 15 (Introduction) contains       12 characters\n",
      "Line 16 (to) contains        2 characters\n",
      "Line 17 (Pandas.ipynb) contains       12 characters\n",
      "Line 18 (Kera) contains        4 characters\n",
      "Line 19 (Library) contains        7 characters\n",
      "Line 20 (Movies) contains        6 characters\n",
      "Line 21 (Music) contains        5 characters\n",
      "Line 22 (Pictures) contains        8 characters\n",
      "Line 23 (Public) contains        6 characters\n",
      "Line 24 (Weather) contains        7 characters\n",
      "Line 25 (Data) contains        4 characters\n",
      "Line 26 (Classification) contains       14 characters\n",
      "Line 27 (using) contains        5 characters\n",
      "Line 28 (Decision) contains        8 characters\n",
      "Line 29 (Trees.ipynb) contains       11 characters\n",
      "Line 30 (Weather) contains        7 characters\n",
      "Line 31 (Data) contains        4 characters\n",
      "Line 32 (Clustering) contains       10 characters\n",
      "Line 33 (using) contains        5 characters\n",
      "Line 34 (k-Means.ipynb) contains       13 characters\n",
      "Line 35 (cling) contains        5 characters\n",
      "Line 36 (iBackupBot) contains       10 characters\n",
      "Line 37 (krackattacks-poc-zerokey) contains       24 characters\n",
      "Line 38 (miniconda3) contains       10 characters\n",
      "Line 39 (mongodb-osx-x86_64-4.0.3) contains       24 characters\n",
      "Line 40 (numpy) contains        5 characters\n",
      "Line 41 (Exercise) contains        8 characters\n",
      "Line 42 (Notebook.ipynb) contains       14 characters\n",
      "Line 43 (scapynotebooks) contains       14 characters\n",
      "Line 44 (testCPP.ipynb) contains       13 characters\n",
      "Line 45 (wekafiles) contains        9 characters\n"
     ]
    }
   ],
   "source": [
    "%%bash\n",
    "\n",
    "# print line and total characters in each line for contents of home dir\n",
    "count=1\n",
    "for i in $(ls ~); do\n",
    "    echo \"Line $count ($i) contains $(echo -n $i | wc -c) characters\"\n",
    "    (( count++ ))\n",
    "done"
   ]
  },
  {
   "cell_type": "markdown",
   "metadata": {},
   "source": [
    "## see for-countdown.sh demo in demo-scripts"
   ]
  },
  {
   "cell_type": "markdown",
   "metadata": {},
   "source": [
    "## While loop\n",
    "```bash\n",
    "while condition; do\n",
    "    #body\n",
    "done\n",
    "```"
   ]
  },
  {
   "cell_type": "code",
   "execution_count": 17,
   "metadata": {},
   "outputs": [
    {
     "name": "stdout",
     "output_type": "stream",
     "text": [
      "2\n",
      "4\n",
      "6\n",
      "8\n",
      "10\n",
      "12\n",
      "14\n",
      "16\n",
      "18\n",
      "20\n"
     ]
    }
   ],
   "source": [
    "%%bash\n",
    "\n",
    "count=1\n",
    "while (( $count <= 20 )); do\n",
    "    if (( $count%2 == 0 )); then\n",
    "        echo $count\n",
    "    fi\n",
    "    (( count++ ))\n",
    "done"
   ]
  },
  {
   "cell_type": "markdown",
   "metadata": {},
   "source": [
    "## see while-countdown.sh in demo-scripts folder"
   ]
  },
  {
   "cell_type": "code",
   "execution_count": null,
   "metadata": {},
   "outputs": [],
   "source": []
  }
 ],
 "metadata": {
  "kernelspec": {
   "display_name": "Python 3",
   "language": "python",
   "name": "python3"
  },
  "language_info": {
   "codemirror_mode": {
    "name": "ipython",
    "version": 3
   },
   "file_extension": ".py",
   "mimetype": "text/x-python",
   "name": "python",
   "nbconvert_exporter": "python",
   "pygments_lexer": "ipython3",
   "version": "3.7.2"
  }
 },
 "nbformat": 4,
 "nbformat_minor": 2
}
