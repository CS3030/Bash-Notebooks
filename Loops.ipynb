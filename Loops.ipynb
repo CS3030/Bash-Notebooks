{
 "cells": [
  {
   "cell_type": "markdown",
   "metadata": {},
   "source": [
    "## Loops\n",
    "- life is full of loops; everyday routines such as going to college, cooking food, slicing vegetables, etc.\n",
    "- E.g. slicing a carrot\n",
    "    1. get cutting board\n",
    "    2. get knife\n",
    "    3. place carrot on cutting board\n",
    "    4. lift knife\n",
    "    - advance carrot\n",
    "    - slice carrot\n",
    "    - if you see only your finger, then quit else go to step 4\n",
    "- step 4-7 form a loop!"
   ]
  },
  {
   "cell_type": "markdown",
   "metadata": {},
   "source": [
    "## For loop\n",
    "- syntax\n",
    "```bash\n",
    "for (( init; condition; update )); do \n",
    "    # body\n",
    "done\n",
    "```\n",
    "\n",
    "```bash\n",
    "for val in val1 val2 ...; do\n",
    "    # body\n",
    "done\n",
    "```"
   ]
  },
  {
   "cell_type": "code",
   "execution_count": 1,
   "metadata": {},
   "outputs": [
    {
     "name": "stdout",
     "output_type": "stream",
     "text": [
      "2\n",
      "4\n",
      "6\n",
      "8\n",
      "10\n",
      "12\n",
      "14\n",
      "16\n",
      "18\n",
      "20\n"
     ]
    }
   ],
   "source": [
    "%%bash\n",
    "for (( count=1; count<=20; count++ )); do\n",
    "    if (( $count%2 == 0 )); then\n",
    "        echo $count\n",
    "    fi\n",
    "done"
   ]
  },
  {
   "cell_type": "code",
   "execution_count": 4,
   "metadata": {},
   "outputs": [
    {
     "name": "stdout",
     "output_type": "stream",
     "text": [
      "1235"
     ]
    }
   ],
   "source": [
    "%%bash\n",
    "\n",
    "for i in 1 2 35; do\n",
    "    echo -n $i\n",
    "done"
   ]
  },
  {
   "cell_type": "code",
   "execution_count": 5,
   "metadata": {},
   "outputs": [
    {
     "name": "stdout",
     "output_type": "stream",
     "text": [
      "1 2 3 4 5 6 7 8 9 10 11 12 13 14 15 16 17 18 19 20 "
     ]
    }
   ],
   "source": [
    "%%bash\n",
    "for i in {1..20}; do\n",
    "    echo -n \"$i \" \n",
    "done"
   ]
  },
  {
   "cell_type": "code",
   "execution_count": 6,
   "metadata": {
    "code_folding": []
   },
   "outputs": [
    {
     "name": "stdout",
     "output_type": "stream",
     "text": [
      "word1\n",
      "word 2\n",
      "word3\n",
      "10\n"
     ]
    }
   ],
   "source": [
    "%%bash\n",
    "for w in word1 \"word 2\" \"word3\" 10; do\n",
    "    echo $w\n",
    "done"
   ]
  },
  {
   "cell_type": "code",
   "execution_count": 7,
   "metadata": {},
   "outputs": [
    {
     "name": "stdout",
     "output_type": "stream",
     "text": [
      "BashNotebooks\t     LinuxCommand-Notebooks  Templates\r\n",
      "burptCert\t     miniconda3\t\t     TestClass.class\r\n",
      "Desktop\t\t     Music\t\t     tracegraph.svg\r\n",
      "Documents\t     mynamp.py\t\t     user_space_report.txt\r\n",
      "Downloads\t     NetSecNotebooks\t     Videos\r\n",
      "file.txt\t     owasp_zap_root_ca.cer   WebGoat\r\n",
      "GoodAssignmentsDemo  Pictures\t\t     webgoat-server-8.0.0.M25.jar\r\n",
      "hello.txt\t     Public\t\t     webwolf-8.0.0.M25.jar\r\n"
     ]
    }
   ],
   "source": [
    "! ls ~"
   ]
  },
  {
   "cell_type": "code",
   "execution_count": 8,
   "metadata": {},
   "outputs": [
    {
     "name": "stdout",
     "output_type": "stream",
     "text": [
      "Line 1 (BashNotebooks) contains 13 characters\n",
      "Line 2 (burptCert) contains 9 characters\n",
      "Line 3 (Desktop) contains 7 characters\n",
      "Line 4 (Documents) contains 9 characters\n",
      "Line 5 (Downloads) contains 9 characters\n",
      "Line 6 (file.txt) contains 8 characters\n",
      "Line 7 (GoodAssignmentsDemo) contains 19 characters\n",
      "Line 8 (hello.txt) contains 9 characters\n",
      "Line 9 (LinuxCommand-Notebooks) contains 22 characters\n",
      "Line 10 (miniconda3) contains 10 characters\n",
      "Line 11 (Music) contains 5 characters\n",
      "Line 12 (mynamp.py) contains 9 characters\n",
      "Line 13 (NetSecNotebooks) contains 15 characters\n",
      "Line 14 (owasp_zap_root_ca.cer) contains 21 characters\n",
      "Line 15 (Pictures) contains 8 characters\n",
      "Line 16 (Public) contains 6 characters\n",
      "Line 17 (Templates) contains 9 characters\n",
      "Line 18 (TestClass.class) contains 15 characters\n",
      "Line 19 (tracegraph.svg) contains 14 characters\n",
      "Line 20 (user_space_report.txt) contains 21 characters\n",
      "Line 21 (Videos) contains 6 characters\n",
      "Line 22 (WebGoat) contains 7 characters\n",
      "Line 23 (webgoat-server-8.0.0.M25.jar) contains 28 characters\n",
      "Line 24 (webwolf-8.0.0.M25.jar) contains 21 characters\n"
     ]
    }
   ],
   "source": [
    "%%bash\n",
    "\n",
    "# print line and total characters in each line for contents of home dir\n",
    "count=1\n",
    "for i in $(ls ~); do\n",
    "    echo \"Line $count ($i) contains $(echo -n $i | wc -c) characters\"\n",
    "    (( count++ ))\n",
    "done"
   ]
  },
  {
   "cell_type": "markdown",
   "metadata": {},
   "source": [
    "## see for-countdown.sh demo in demo-scripts"
   ]
  },
  {
   "cell_type": "markdown",
   "metadata": {},
   "source": [
    "## While loop\n",
    "```bash\n",
    "while condition; do\n",
    "    #body\n",
    "done\n",
    "```"
   ]
  },
  {
   "cell_type": "code",
   "execution_count": null,
   "metadata": {},
   "outputs": [],
   "source": [
    "%%bash\n",
    "count=1\n",
    "while (( $count <= 20 )); do\n",
    "    if (( $count%2 == 0 )); then\n",
    "        echo $count\n",
    "        #exit 0;\n",
    "    fi\n",
    "    (( count++ ))\n",
    "done"
   ]
  },
  {
   "cell_type": "markdown",
   "metadata": {},
   "source": [
    "## see while-countdown.sh in demo-scripts folder"
   ]
  },
  {
   "cell_type": "code",
   "execution_count": null,
   "metadata": {},
   "outputs": [],
   "source": []
  }
 ],
 "metadata": {
  "kernelspec": {
   "display_name": "Python 3",
   "language": "python",
   "name": "python3"
  },
  "language_info": {
   "codemirror_mode": {
    "name": "ipython",
    "version": 3
   },
   "file_extension": ".py",
   "mimetype": "text/x-python",
   "name": "python",
   "nbconvert_exporter": "python",
   "pygments_lexer": "ipython3",
   "version": "3.7.1"
  }
 },
 "nbformat": 4,
 "nbformat_minor": 2
}
