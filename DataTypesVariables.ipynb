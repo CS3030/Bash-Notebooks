{
 "cells": [
  {
   "cell_type": "markdown",
   "metadata": {},
   "source": [
    "# Data Types and Variables\n",
    "- Mainly 3 types: Integer, Float and String"
   ]
  },
  {
   "cell_type": "markdown",
   "metadata": {},
   "source": [
    "## Declaring and using variables\n",
    "- like in any other programming languages variables are used to store data values\n",
    "\n",
    "- Syntax to declare variables:\n",
    "```bash\n",
    "varName=Value\n",
    "```\n",
    "- Syntax to use variables:\n",
    "```bash\n",
    "$varName\n",
    "```"
   ]
  },
  {
   "cell_type": "code",
   "execution_count": 22,
   "metadata": {},
   "outputs": [
    {
     "name": "stdout",
     "output_type": "stream",
     "text": [
      "\n"
     ]
    },
    {
     "name": "stderr",
     "output_type": "stream",
     "text": [
      "bash: line 1: var: command not found\n"
     ]
    }
   ],
   "source": [
    "%%bash\n",
    "var = \"value\" # not a correct way to declare bash variables\n",
    "echo $var"
   ]
  },
  {
   "cell_type": "code",
   "execution_count": 24,
   "metadata": {},
   "outputs": [
    {
     "name": "stdout",
     "output_type": "stream",
     "text": [
      "name = John Smith\n",
      "Hello Jane Smith. Nice meeting you!\n",
      "Price of new iphone is $999.99\n",
      "Mr. John Smith\n"
     ]
    }
   ],
   "source": [
    "%%bash\n",
    "num=100 # int\n",
    "price=999.99 # float\n",
    "name=\"John Smith\" # string\n",
    "person='Jane Smith' # string\n",
    "echo name = $name\n",
    "printf \"Hello %s. Nice meeting you!\\n\" \"$person\" # need quotes for values with spaces\n",
    "echo \"Price of new iphone is \\$$price\"\n",
    "echo \"Mr. ${name}\" # can also use curly braces"
   ]
  },
  {
   "cell_type": "markdown",
   "metadata": {},
   "source": [
    "## Standard Input/Output\n",
    "\n",
    "## standard input\n",
    "- read program\n",
    "```bash\n",
    "read -p \"prompt\" varName\n",
    "```\n",
    "\n",
    "- standard input doesn't seem to work in jupyter notebook\n",
    "- see demo-programs/std-io.sh script\n",
    "\n",
    "## standard output\n",
    "- echo\n",
    "- printf\n",
    "\n",
    "```bash\n",
    "echo literal data and or $variable \n",
    "```\n",
    "\n",
    "```bash\n",
    "printf <format> <space separated arguments>\n",
    "```\n",
    "- formats    \n",
    "    - %x - hex\n",
    "    - %o - octal\n",
    "    - %d or %i - signed decimal\n",
    "    - %s - string\n",
    "    - %f - float"
   ]
  },
  {
   "cell_type": "code",
   "execution_count": 4,
   "metadata": {},
   "outputs": [
    {
     "name": "stdout",
     "output_type": "stream",
     "text": [
      "2.35\n",
      "1.4\n",
      "2.3\n",
      "3.5\n"
     ]
    }
   ],
   "source": [
    "%%bash\n",
    "printf \"%.2f\\n\" 2.3456\n",
    "printf \"%.1f\\n\" 1.44 2.33 3.49 # multiple values for single format string"
   ]
  },
  {
   "cell_type": "code",
   "execution_count": null,
   "metadata": {},
   "outputs": [],
   "source": []
  }
 ],
 "metadata": {
  "kernelspec": {
   "display_name": "Python 3",
   "language": "python",
   "name": "python3"
  },
  "language_info": {
   "codemirror_mode": {
    "name": "ipython",
    "version": 3
   },
   "file_extension": ".py",
   "mimetype": "text/x-python",
   "name": "python",
   "nbconvert_exporter": "python",
   "pygments_lexer": "ipython3",
   "version": "3.7.2"
  }
 },
 "nbformat": 4,
 "nbformat_minor": 2
}
