{
 "cells": [
  {
   "cell_type": "markdown",
   "metadata": {},
   "source": [
    "# Menu Example\n",
    "- menu driven script using loop and conditional branching\n",
    "- run /demo-scripts/menu.sh in terminal"
   ]
  },
  {
   "cell_type": "code",
   "execution_count": null,
   "metadata": {},
   "outputs": [],
   "source": [
    "%%bash\n",
    "#!/bin/bash\n",
    "\n",
    "# read-menu: a menu driven system information program\n",
    "# Source: LinuxCommand.org\n",
    "\n",
    "while [[ true ]]; do\n",
    "    echo \"\n",
    "    Please Select:\n",
    "    1. Display System Information\n",
    "    2. Display Free Disk Space\n",
    "    3. Display Home Space Utilization\n",
    "    0. Quit\n",
    "    \"\n",
    "    read -p \"Enter selection [0-3] > \"\n",
    "    clear\n",
    "    if [[ $REPLY =~ ^[0-3]$ ]]; then\n",
    "        if [[ $REPLY == 0 ]]; then\n",
    "            echo \"Program Terminated. Good bye...\"\n",
    "            exit 0\n",
    "        fi\n",
    "        if [[ $REPLY == 1 ]]; then\n",
    "            echo \"Hostname: $HOSTNAME\"\n",
    "            echo \"Host uptime:\"\n",
    "            uptime\n",
    "        fi\n",
    "        if [[ $REPLY == 2 ]]; then\n",
    "            echo \"Free Disk Space\"\n",
    "            df -h #-h human readable format\n",
    "        fi\n",
    "        if [[ $REPLY == 3 ]]; then\n",
    "            if [[ $(id -u) == 0 ]]; then\n",
    "                echo \"Home Space Utililization for (All Users)\"\n",
    "                du -sh /home/*\n",
    "            else\n",
    "                echo \"Home Space Utilization for ($USER)\"\n",
    "                du -sh $HOME\n",
    "            fi\n",
    "        fi\n",
    "    else\n",
    "        echo \"Invalid entry.\"\n",
    "    fi\n",
    "    read -p \"Enter to continue...\"\n",
    "done"
   ]
  },
  {
   "cell_type": "code",
   "execution_count": null,
   "metadata": {},
   "outputs": [],
   "source": []
  }
 ],
 "metadata": {
  "kernelspec": {
   "display_name": "Python 3",
   "language": "python",
   "name": "python3"
  },
  "language_info": {
   "codemirror_mode": {
    "name": "ipython",
    "version": 3
   },
   "file_extension": ".py",
   "mimetype": "text/x-python",
   "name": "python",
   "nbconvert_exporter": "python",
   "pygments_lexer": "ipython3",
   "version": "3.7.2"
  }
 },
 "nbformat": 4,
 "nbformat_minor": 2
}
