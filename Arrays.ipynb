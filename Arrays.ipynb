{
 "cells": [
  {
   "cell_type": "markdown",
   "metadata": {},
   "source": [
    "# Arrays\n",
    "- allow us to to store more than one value at a time\n",
    "- Bash supports only 1-D array\n",
    "- individual element is accessed using index"
   ]
  },
  {
   "cell_type": "markdown",
   "metadata": {},
   "source": [
    "## Declaring arrays\n",
    "- several ways\n",
    "- use declare command\n",
    "```bash\n",
    "declare -a arrName\n",
    "```\n",
    "- declare just like a variable but with bracket and index\n",
    "```bash\n",
    "arrName[index]=value\n",
    "```\n",
    "- declare and initialize array\n",
    "```bash\n",
    "arrName=(value1 value2 ...)\n",
    "```"
   ]
  },
  {
   "cell_type": "code",
   "execution_count": 23,
   "metadata": {},
   "outputs": [
    {
     "name": "stdout",
     "output_type": "stream",
     "text": [
      "John Jane Smith Michael\n",
      "John\n",
      "Jane Smith\n"
     ]
    }
   ],
   "source": [
    "%%bash\n",
    "\n",
    "declare -a names\n",
    "declare -a nums\n",
    "\n",
    "# assigning values\n",
    "names[0]=John\n",
    "names[1]=\"Jane Smith\"\n",
    "names[2]=\"Michael\"\n",
    "\n",
    "## access elements\n",
    "echo ${names[*]} # access all elements\n",
    "echo ${names[0]} # access element at index 0\n",
    "echo ${names[1]}"
   ]
  },
  {
   "cell_type": "code",
   "execution_count": 35,
   "metadata": {},
   "outputs": [
    {
     "name": "stdout",
     "output_type": "stream",
     "text": [
      "Sunday Monday\n",
      "Sunday\n",
      "Monday\n"
     ]
    }
   ],
   "source": [
    "%%bash\n",
    "\n",
    "# declare just like variables\n",
    "days[0]=Sunday\n",
    "days[1]=Monday\n",
    "\n",
    "# access elements\n",
    "echo ${days[*]} # can use @ as well!\n",
    "echo ${days[0]}\n",
    "echo ${days[1]}"
   ]
  },
  {
   "cell_type": "code",
   "execution_count": 26,
   "metadata": {},
   "outputs": [
    {
     "name": "stdout",
     "output_type": "stream",
     "text": [
      "Saturday\n",
      "Sunday\n"
     ]
    }
   ],
   "source": [
    "%%bash\n",
    "weekends=(Saturday Sunday)\n",
    "\n",
    "# access elements\n",
    "echo ${weekends[0]}\n",
    "echo ${weekends[1]}"
   ]
  },
  {
   "cell_type": "markdown",
   "metadata": {},
   "source": [
    "## Looping through arrays"
   ]
  },
  {
   "cell_type": "code",
   "execution_count": 41,
   "metadata": {},
   "outputs": [
    {
     "name": "stdout",
     "output_type": "stream",
     "text": [
      "1 4 9 16 25 36 49 64 81 100 121 144 169 196 225 256 289 324 361 400 \n",
      "1 4 9 16 25 36 49 64 81 100 121 144 169 196 225 256 289 324 361 400 "
     ]
    }
   ],
   "source": [
    "%%bash\n",
    "for i in {1..20}; do\n",
    "    nums[$i]=$(( $i**2 )) # $ can be omitted!\n",
    "done\n",
    "\n",
    "# use range-based loop\n",
    "for i in \"${nums[*]}\"; do\n",
    "    printf \"%d \" $i\n",
    "done\n",
    "\n",
    "printf \"\\n\"\n",
    "# use index\n",
    "for i in {1..20}; do\n",
    "    printf \"%d \" ${nums[i]}\n",
    "done"
   ]
  },
  {
   "cell_type": "code",
   "execution_count": null,
   "metadata": {},
   "outputs": [],
   "source": []
  }
 ],
 "metadata": {
  "kernelspec": {
   "display_name": "Python 3",
   "language": "python",
   "name": "python3"
  },
  "language_info": {
   "codemirror_mode": {
    "name": "ipython",
    "version": 3
   },
   "file_extension": ".py",
   "mimetype": "text/x-python",
   "name": "python",
   "nbconvert_exporter": "python",
   "pygments_lexer": "ipython3",
   "version": "3.7.2"
  }
 },
 "nbformat": 4,
 "nbformat_minor": 2
}
