{
 "cells": [
  {
   "cell_type": "markdown",
   "metadata": {},
   "source": [
    "# Arrays\n",
    "- allow us to to store more than one value at a time\n",
    "- Bash supports only 1-D array\n",
    "- individual element is accessed using index\n",
    "- Works like Python dict or C++ map\n",
    "    - indices act more like keys \n",
    "    - don't have to start with 0\n",
    "    - indices need not be contiguous"
   ]
  },
  {
   "cell_type": "markdown",
   "metadata": {},
   "source": [
    "## Declaring arrays\n",
    "- several ways\n",
    "- use declare command\n",
    "```bash\n",
    "declare -a arrName\n",
    "```\n",
    "- declare just like a variable but with bracket and index\n",
    "```bash\n",
    "arrName[index]=value\n",
    "```\n",
    "- declare and initialize array\n",
    "```bash\n",
    "arrName=(value1 value2 ...)\n",
    "```"
   ]
  },
  {
   "cell_type": "code",
   "execution_count": 23,
   "metadata": {},
   "outputs": [
    {
     "name": "stdout",
     "output_type": "stream",
     "text": [
      "John Jane Smith Michael\n",
      "John\n",
      "Jane Smith\n"
     ]
    }
   ],
   "source": [
    "%%bash\n",
    "\n",
    "declare -a names\n",
    "declare -a nums\n",
    "\n",
    "# assigning values\n",
    "names[0]=John\n",
    "names[1]=\"Jane Smith\"\n",
    "names[2]=\"Michael\"\n",
    "\n",
    "## access elements\n",
    "echo ${names[*]} # access all elements\n",
    "echo ${names[0]} # access element at index 0\n",
    "echo ${names[1]}"
   ]
  },
  {
   "cell_type": "code",
   "execution_count": 53,
   "metadata": {},
   "outputs": [
    {
     "name": "stdout",
     "output_type": "stream",
     "text": [
      "Sunday Monday\n",
      "Sunday\n",
      "Monday\n",
      "Sunday Monday Tuesday Wednesday\n",
      "Monday Tuesday Wednesday\n"
     ]
    }
   ],
   "source": [
    "%%bash\n",
    "\n",
    "# declare just like variables\n",
    "days[0]=Sunday\n",
    "days[1]=Monday\n",
    "\n",
    "# access elements\n",
    "echo ${days[*]} # can use @ as well!\n",
    "echo ${days[0]}\n",
    "echo ${days[1]}\n",
    "\n",
    "# appending elements to the end\n",
    "days+=(Tuesday Wednesday)\n",
    "echo ${days[*]}\n",
    "\n",
    "# deleting element\n",
    "unset days[0]\n",
    "echo ${days[*]}"
   ]
  },
  {
   "cell_type": "code",
   "execution_count": 26,
   "metadata": {},
   "outputs": [
    {
     "name": "stdout",
     "output_type": "stream",
     "text": [
      "Saturday\n",
      "Sunday\n"
     ]
    }
   ],
   "source": [
    "%%bash\n",
    "weekends=(Saturday Sunday)\n",
    "\n",
    "# access elements\n",
    "echo ${weekends[0]}\n",
    "echo ${weekends[1]}"
   ]
  },
  {
   "cell_type": "markdown",
   "metadata": {},
   "source": []
  },
  {
   "cell_type": "code",
   "execution_count": 51,
   "metadata": {},
   "outputs": [
    {
     "ename": "SyntaxError",
     "evalue": "invalid syntax (<ipython-input-51-6933e63361dd>, line 1)",
     "output_type": "error",
     "traceback": [
      "\u001b[0;36m  File \u001b[0;32m\"<ipython-input-51-6933e63361dd>\"\u001b[0;36m, line \u001b[0;32m1\u001b[0m\n\u001b[0;31m    days+=(Tuesday Wednesday)\u001b[0m\n\u001b[0m                           ^\u001b[0m\n\u001b[0;31mSyntaxError\u001b[0m\u001b[0;31m:\u001b[0m invalid syntax\n"
     ]
    }
   ],
   "source": [
    "\n"
   ]
  },
  {
   "cell_type": "markdown",
   "metadata": {},
   "source": [
    "## Looping through arrays"
   ]
  },
  {
   "cell_type": "code",
   "execution_count": 59,
   "metadata": {},
   "outputs": [
    {
     "name": "stdout",
     "output_type": "stream",
     "text": [
      "1 4 9 16 25 36 49 64 81 100 121 144 169 196 225 256 289 324 361 400 \n",
      "nums length =  20\n",
      "1 4 9 16 25 36 49 64 81 100 121 144 169 196 225 256 289 324 361 400 \n",
      "1 4 9 16 25 36 49 64 81 121 144 169 196 225 256 289 324 361 "
     ]
    }
   ],
   "source": [
    "%%bash\n",
    "for i in {1..20}; do\n",
    "    nums[$i]=$(( $i**2 )) # $ can be omitted!\n",
    "done\n",
    "\n",
    "# use range-based loop\n",
    "for i in ${nums[*]}; do\n",
    "    printf \"%d \" $i\n",
    "done\n",
    "\n",
    "printf \"\\n\"\n",
    "# use index\n",
    "len=${#nums[*]} # find length of array\n",
    "echo \"nums length = \" $len\n",
    "i=1\n",
    "while ((i <= len)); do\n",
    "    printf \"%d \" ${nums[i]}\n",
    "    (( i++ ))\n",
    "done\n",
    "\n",
    "printf \"\\n\"\n",
    "# if gap exists in indexing\n",
    "unset nums[10]\n",
    "unset nums[20]\n",
    "for i in ${!nums[*]}; do\n",
    "    printf \"%d \" ${nums[i]}\n",
    "done"
   ]
  },
  {
   "cell_type": "code",
   "execution_count": null,
   "metadata": {},
   "outputs": [],
   "source": []
  }
 ],
 "metadata": {
  "kernelspec": {
   "display_name": "Python 3",
   "language": "python",
   "name": "python3"
  },
  "language_info": {
   "codemirror_mode": {
    "name": "ipython",
    "version": 3
   },
   "file_extension": ".py",
   "mimetype": "text/x-python",
   "name": "python",
   "nbconvert_exporter": "python",
   "pygments_lexer": "ipython3",
   "version": "3.7.2"
  }
 },
 "nbformat": 4,
 "nbformat_minor": 2
}
