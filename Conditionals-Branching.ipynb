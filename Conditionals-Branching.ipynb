{
 "cells": [
  {
   "cell_type": "markdown",
   "metadata": {},
   "source": [
    "# Conditionals\n",
    "- also called logical statements that help program make decision and control the execution of commands"
   ]
  },
  {
   "cell_type": "markdown",
   "metadata": {},
   "source": [
    "## One-way selection\n",
    "```bash\n",
    "if commands; then\n",
    "    commands;\n",
    "fi\n",
    "```"
   ]
  },
  {
   "cell_type": "markdown",
   "metadata": {},
   "source": [
    "## Exist Status\n",
    "- commands (including bash scripts) issue a value to the system when they terminate, called the exit status\n",
    "- this is an integer value in the range 0-255, indicates the success or failure\n",
    "- by conventions, value of 0 (zero) indicates success and any other value indicates failure\n",
    "- `$?` stores the exit status of last command executed"
   ]
  },
  {
   "cell_type": "code",
   "execution_count": 18,
   "metadata": {},
   "outputs": [
    {
     "name": "stdout",
     "output_type": "stream",
     "text": [
      "/bin\n",
      "0\n"
     ]
    }
   ],
   "source": [
    "%%bash\n",
    "ls -d /bin\n",
    "echo $? #print exit status of last command"
   ]
  },
  {
   "cell_type": "code",
   "execution_count": 20,
   "metadata": {},
   "outputs": [
    {
     "name": "stdout",
     "output_type": "stream",
     "text": [
      "/usr/bin\n",
      "0\n"
     ]
    }
   ],
   "source": [
    "%%bash\n",
    "ls -d /usr/bin\n",
    "echo $?"
   ]
  },
  {
   "cell_type": "code",
   "execution_count": 19,
   "metadata": {},
   "outputs": [
    {
     "name": "stdout",
     "output_type": "stream",
     "text": [
      "1\n"
     ]
    },
    {
     "name": "stderr",
     "output_type": "stream",
     "text": [
      "ls: /bin/usr: No such file or directory\n"
     ]
    }
   ],
   "source": [
    "%%bash\n",
    "ls -d /bin/usr\n",
    "echo $?"
   ]
  },
  {
   "cell_type": "code",
   "execution_count": 21,
   "metadata": {},
   "outputs": [
    {
     "name": "stdout",
     "output_type": "stream",
     "text": [
      "0\n"
     ]
    }
   ],
   "source": [
    "%%bash\n",
    "true #true is 0!\n",
    "echo $?"
   ]
  },
  {
   "cell_type": "code",
   "execution_count": 22,
   "metadata": {},
   "outputs": [
    {
     "name": "stdout",
     "output_type": "stream",
     "text": [
      "1\n"
     ]
    }
   ],
   "source": [
    "%%bash\n",
    "false # false is 1!\n",
    "echo $?"
   ]
  },
  {
   "cell_type": "code",
   "execution_count": 23,
   "metadata": {},
   "outputs": [
    {
     "name": "stdout",
     "output_type": "stream",
     "text": [
      "It's true\n"
     ]
    }
   ],
   "source": [
    "%%bash\n",
    "if true; then\n",
    "    echo \"It's true\";\n",
    "fi"
   ]
  },
  {
   "cell_type": "code",
   "execution_count": 24,
   "metadata": {},
   "outputs": [],
   "source": [
    "%%bash\n",
    "if false; then\n",
    "    echo \"It's true\";\n",
    "fi"
   ]
  },
  {
   "cell_type": "markdown",
   "metadata": {},
   "source": [
    "## Testing conditional expression\n",
    "- `[ expression ]` - basic test\n",
    "    - =, ==, !=, -ge, -ne, -eq, -le, -lt, -gt\n",
    "- `(( expression ))` - arithmetic/integer truth tests; must for integers!\n",
    "    - <=, <, >, >=, &&, ||, !=\n",
    "- `[[ expression ]]` - for compound expressions \n",
    "    - good for evaluating file and pathnames\n",
    "    - more useful, modern and easier version of test"
   ]
  },
  {
   "cell_type": "code",
   "execution_count": 34,
   "metadata": {},
   "outputs": [
    {
     "name": "stdout",
     "output_type": "stream",
     "text": [
      "There's no answer\n"
     ]
    }
   ],
   "source": [
    "%%bash\n",
    "#!/bin/bash\n",
    "#test-string: evaluate the value of a string\n",
    "answer=maybe\n",
    "if [[ -n \"$answer\" ]]; then # if length of string is > 0\n",
    "    echo \"There's some answer\"\n",
    "fi\n",
    "\n",
    "if [[ -z \"$answer\" ]]; then # length is 0\n",
    "    echo \"There's no answer\"\n",
    "fi\n"
   ]
  },
  {
   "cell_type": "markdown",
   "metadata": {},
   "source": [
    "## Two-way selection\n",
    "- syntax:\n",
    "```bash\n",
    "if commands; then\n",
    "\t#commands...\n",
    "else\n",
    "\t#commands...\n",
    "fi\n",
    "```"
   ]
  },
  {
   "cell_type": "code",
   "execution_count": 37,
   "metadata": {},
   "outputs": [
    {
     "name": "stdout",
     "output_type": "stream",
     "text": [
      "100 is not less than 20\n"
     ]
    }
   ],
   "source": [
    "%%bash\n",
    "#!/bin/bash\n",
    "a=100\n",
    "b=20\n",
    "if (( $a < $b )); then\n",
    "    echo \"$a is less than $b\"\n",
    "else\n",
    "    echo \"$a is not less than $b\"\n",
    "fi"
   ]
  },
  {
   "cell_type": "code",
   "execution_count": 32,
   "metadata": {},
   "outputs": [
    {
     "name": "stdout",
     "output_type": "stream",
     "text": [
      "/Users/rbasnet/.bash_profile is a regular file.\n",
      "/Users/rbasnet/.bash_profile is readable.\n",
      "/Users/rbasnet/.bash_profile is writable.\n"
     ]
    }
   ],
   "source": [
    "%%bash\n",
    "#!/bin/bash\n",
    "#test-file: Evaluate the status of a file\n",
    "FILE=~/.bash_profile\n",
    "if [[ -e \"$FILE\" ]]; then\n",
    "    if [[ -f \"$FILE\" ]]; then\n",
    "        echo \"$FILE is a regular file.\"\n",
    "    fi\n",
    "    if [[ -d \"$FILE\" ]]; then\n",
    "        echo \"$FILE is a directory.\"\n",
    "    fi\n",
    "    if [[ -r \"$FILE\" ]]; then\n",
    "        echo \"$FILE is readable.\"\n",
    "    fi\n",
    "    if [[ -w \"$FILE\" ]]; then\n",
    "        echo \"$FILE is writable.\"\n",
    "    fi\n",
    "    if [[ -x \"$FILE\" ]; then\n",
    "        echo \"$FILE is executable/searchable.\"\n",
    "    fi\n",
    "else\n",
    "    echo \"$FILE does not exist\"\n",
    "    exit 1\n",
    "fi\n",
    "exit 0"
   ]
  },
  {
   "cell_type": "markdown",
   "metadata": {},
   "source": [
    "## Multi-way selection\n",
    "- syntax:\n",
    "\n",
    "```bash\n",
    "if commands; then\n",
    "\t#commands...\n",
    "elif commands; then\n",
    "\t#commands...\n",
    "elif commands; then\n",
    "    #commands...\n",
    "...\n",
    "\n",
    "fi\n",
    "```"
   ]
  },
  {
   "cell_type": "code",
   "execution_count": 39,
   "metadata": {},
   "outputs": [
    {
     "name": "stdout",
     "output_type": "stream",
     "text": [
      "The answer is NO\n"
     ]
    }
   ],
   "source": [
    "%%bash\n",
    "#!/bin/bash\n",
    "ANS=NO\n",
    "if [[ -z $ANS ]]; then\n",
    "    echo \"No answer provided\"\n",
    "elif [[ $ANS == \"yes\" ]]; then\n",
    "    echo \"The answer is YES\"\n",
    "elif [[ $ANS == \"no\" ]]; then\n",
    "    echo \"The answer is NO\"\n",
    "elif [[ $ANS == \"maybe\" ]]; then\n",
    "    echo \"The answer is MAYBE\"\n",
    "else\n",
    "    echo \"The answer is UNKNOWN\"\n",
    "fi"
   ]
  },
  {
   "cell_type": "markdown",
   "metadata": {},
   "source": [
    "## More examples\n",
    "- see demo scripts:\n",
    "    - demo-scripts/string-comparison.sh\n",
    "    - demo-scripts/multiway-selection.sh\n"
   ]
  },
  {
   "cell_type": "code",
   "execution_count": null,
   "metadata": {},
   "outputs": [],
   "source": []
  }
 ],
 "metadata": {
  "kernelspec": {
   "display_name": "Python 3",
   "language": "python",
   "name": "python3"
  },
  "language_info": {
   "codemirror_mode": {
    "name": "ipython",
    "version": 3
   },
   "file_extension": ".py",
   "mimetype": "text/x-python",
   "name": "python",
   "nbconvert_exporter": "python",
   "pygments_lexer": "ipython3",
   "version": "3.7.2"
  }
 },
 "nbformat": 4,
 "nbformat_minor": 2
}
