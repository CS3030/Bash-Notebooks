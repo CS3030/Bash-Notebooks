{
 "cells": [
  {
   "cell_type": "markdown",
   "metadata": {},
   "source": [
    "# Bash Script Fundamentals\n",
    "\n",
    "## Table of Contents\n",
    "**[Data Types & Variables](./DataTypesVariables.ipynb)** <br>\n",
    "**[Basic Arithmetic](./BasicArithmetic.ipynb)** <br>\n",
    "**[Conditionals-Branching](./Conditionals-Branching.ipynb)** <br>\n",
    "**[Loops](./Loops.ipynb)** <br>\n",
    "**[Menu Example](./Menu.ipynb)**<br>\n",
    "**[Arrays](./Arrays.ipynb)**<br>\n",
    "**[User-defined Functions](./UserDefinedFunctions.ipynb)**<br>\n",
    "**[File IO](./FileIO.ipynb)**<br>"
   ]
  },
  {
   "cell_type": "code",
   "execution_count": null,
   "metadata": {},
   "outputs": [],
   "source": []
  }
 ],
 "metadata": {
  "kernelspec": {
   "display_name": "Python 3",
   "language": "python",
   "name": "python3"
  },
  "language_info": {
   "codemirror_mode": {
    "name": "ipython",
    "version": 3
   },
   "file_extension": ".py",
   "mimetype": "text/x-python",
   "name": "python",
   "nbconvert_exporter": "python",
   "pygments_lexer": "ipython3",
   "version": "3.7.2"
  }
 },
 "nbformat": 4,
 "nbformat_minor": 2
}
